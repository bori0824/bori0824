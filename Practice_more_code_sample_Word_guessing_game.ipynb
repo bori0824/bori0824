{
  "nbformat": 4,
  "nbformat_minor": 0,
  "metadata": {
    "colab": {
      "provenance": [],
      "authorship_tag": "ABX9TyP2fKhz1hQcmeZVGUi9Yw4F",
      "include_colab_link": true
    },
    "kernelspec": {
      "name": "python3",
      "display_name": "Python 3"
    },
    "language_info": {
      "name": "python"
    }
  },
  "cells": [
    {
      "cell_type": "markdown",
      "metadata": {
        "id": "view-in-github",
        "colab_type": "text"
      },
      "source": [
        "<a href=\"https://colab.research.google.com/github/bori0824/bori0824/blob/main/Practice_more_code_sample_Word_guessing_game.ipynb\" target=\"_parent\"><img src=\"https://colab.research.google.com/assets/colab-badge.svg\" alt=\"Open In Colab\"/></a>"
      ]
    },
    {
      "cell_type": "code",
      "execution_count": 3,
      "metadata": {
        "colab": {
          "base_uri": "https://localhost:8080/"
        },
        "id": "tfLXvrBwm1s2",
        "outputId": "4efd47cc-79d3-4ac5-fde9-ee022bf6d830"
      },
      "outputs": [
        {
          "output_type": "stream",
          "name": "stdout",
          "text": [
            "Welcome to the Progressive Hint Quiz!\n",
            "******************************\n",
            "Try to guess the word. You'll receive up to 4 hints. Type 'exit' to quit.\n",
            "It's a verb.\n",
            "******************************\n",
            "Your guess: I don't know.\n",
            "You move your body beautifully.\n",
            "******************************\n",
            "Your guess: no idea\n",
            "It usually needs music to do this motion.\n",
            "******************************\n",
            "Your guess: play\n",
            "This verb starts with 'D'.\n",
            "******************************\n",
            "Your guess: danc\n",
            "Out of hints! The correct word was 'dance'. Better luck next time!\n"
          ]
        }
      ],
      "source": [
        "#@markdown More code sample: Word guessing game\n",
        "\n",
        "# Define a word and its hints\n",
        "word = \"dance\"\n",
        "hints = [\n",
        "    \"It's a verb.\",\n",
        "    \"You move your body beautifully.\",\n",
        "    \"It usually needs music to do this motion.\",\n",
        "    \"This verb starts with 'D'.\"\n",
        "]\n",
        "\n",
        "print(\"Welcome to the Progressive Hint Quiz!\")\n",
        "print(\"*\"*30)\n",
        "print(\"Try to guess the word. You'll receive up to 4 hints. Type 'exit' to quit.\")\n",
        "\n",
        "# User guess loop\n",
        "for hint in hints:\n",
        "    print(hint)  # Show the next hint\n",
        "    print(\"*\"*30)\n",
        "    guess = input(\"Your guess: \").strip().lower()  # Get user's guess, stripped of whitespace and converted to lowercase\n",
        "\n",
        "    if guess == \"exit\":\n",
        "        print(\"Thanks for playing! Goodbye.\")\n",
        "        break\n",
        "    elif guess == word:\n",
        "        print(\"Congratulations! You've guessed the word correctly.\")\n",
        "        break\n",
        "else:  # If the loop completes without a correct guess or exit\n",
        "    print(f\"Out of hints! The correct word was '{word}'. Better luck next time!\")\n",
        "\n"
      ]
    },
    {
      "cell_type": "code",
      "source": [
        "#@markdown More code sample: Word guessing game\n",
        "\n",
        "# Define a word and its hints\n",
        "word = \"dance\"\n",
        "hints = [\n",
        "    \"It's a verb.\",\n",
        "    \"You move your body beautifully.\",\n",
        "    \"You can do this motion with your whole body.\",\n",
        "    \"This fruit's name starts with 'A'.\"\n",
        "]\n",
        "\n",
        "print(\"Welcome to the Progressive Hint Quiz!\")\n",
        "print(\"*\"*30)\n",
        "print(\"Try to guess the word. You'll receive up to 4 hints. Type 'exit' to quit.\")\n",
        "\n",
        "# User guess loop\n",
        "for hint in hints:\n",
        "    print(hint)  # Show the next hint\n",
        "    print(\"*\"*30)\n",
        "    guess = input(\"Your guess: \").strip().lower()  # Get user's guess, stripped of whitespace and converted to lowercase\n",
        "\n",
        "    if guess == \"exit\":\n",
        "        print(\"Thanks for playing! Goodbye.\")\n",
        "        break\n",
        "    elif guess == word:\n",
        "        print(\"Congratulations! You've guessed the word correctly.\")\n",
        "        break\n",
        "else:  # If the loop completes without a correct guess or exit\n",
        "    print(f\"Out of hints! The correct word was '{word}'. Better luck next time!\")\n",
        "\n"
      ],
      "metadata": {
        "id": "rWdQiMMmqMb9",
        "outputId": "f55a7e0c-d3c9-46df-e4d4-ded7f9cf7365",
        "colab": {
          "base_uri": "https://localhost:8080/"
        }
      },
      "execution_count": null,
      "outputs": [
        {
          "output_type": "stream",
          "name": "stdout",
          "text": [
            "Welcome to the Progressive Hint Quiz!\n",
            "******************************\n",
            "Try to guess the word. You'll receive up to 4 hints. Type 'exit' to quit.\n",
            "It's a verb.\n",
            "******************************\n"
          ]
        }
      ]
    }
  ]
}